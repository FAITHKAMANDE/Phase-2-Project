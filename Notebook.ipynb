{
 "cells": [
  {
   "cell_type": "markdown",
   "id": "3661d547-2632-4d61-b163-9d3a46b14044",
   "metadata": {},
   "source": [
    "##  BUSINESS PROBLEM "
   ]
  },
  {
   "cell_type": "markdown",
   "id": "a9ee7865-3bbd-4502-a0b4-8ce14b9815dc",
   "metadata": {},
   "source": [
    "Your company now sees all the big companies creating original video content and they want to get in on the fun. They have decided to create a new movie studio, but they don’t know anything about creating movies. You are charged with exploring what types of films are currently doing the best at the box office. You must then translate those findings into actionable insights that the head of your company's new movie studio can use to help decide what type of films to create.\n",
    "\n"
   ]
  },
  {
   "cell_type": "markdown",
   "id": "9b0bd25c-d73d-4ae4-94d8-75d78c27be41",
   "metadata": {},
   "source": [
    "##  AIM AND GOALS"
   ]
  },
  {
   "cell_type": "markdown",
   "id": "8d11313c-8362-471e-8151-2b11b42d08a7",
   "metadata": {},
   "source": [
    "The aim of this analysis is to identify the key characteristics of successful films — both financially and critically — and to provide data-driven recommendations that will guide the company's new movie studio in creating profitable and appealing content. This includes examining factors such as genre performance, budget efficiency, audience and critic sentiment, and seasonal trends to uncover what truly drives box office success. \n",
    "- To identify the characteristics of successful films  and provide data-driven recommendations for creating profitable and appealing content.\n",
    "- Identify Profitable Film Types by finding which genres, budgets, or production patterns lead to high profits.\n",
    "- Understand Genre Performance by determining which genres consistently perform well in revenue and reviews.\n",
    "- Evaluating the Impact of Budget on Success by understanding if high-budget films always perform better.\n",
    "- Analyze Audience Sentiment and Engagement by knowing what audiences love based on ratings, reviews, and popularity.\n",
    "- Critic vs Audience Preference achieved by checking if critically acclaimed movies align with audience favorites.\n",
    "- Find Seasonal or Time-Based Trends and if release timing affects success.\n",
    "- Assess Studio Competitors and understanding what established studios are doing right.\n",
    "- Make Actionable Recommendations and Provide specific guidance on what films to make.\n",
    "\n"
   ]
  },
  {
   "cell_type": "markdown",
   "id": "8c59a94b-92c3-4e9b-9572-211c77fab9c5",
   "metadata": {},
   "source": [
    "### 1) IMPORTING LIBRARIES AND LOADING THE DATAS"
   ]
  },
  {
   "cell_type": "code",
   "execution_count": 3,
   "id": "97cf5dcc-f52e-437a-aa41-e128105ee11c",
   "metadata": {},
   "outputs": [],
   "source": [
    "#Importing the libraries"
   ]
  },
  {
   "cell_type": "code",
   "execution_count": null,
   "id": "28c4d65a-ec94-4c72-a95a-0ca9e87d2845",
   "metadata": {},
   "outputs": [],
   "source": []
  }
 ],
 "metadata": {
  "kernelspec": {
   "display_name": "Python (learn-env)",
   "language": "python",
   "name": "learn-env"
  },
  "language_info": {
   "codemirror_mode": {
    "name": "ipython",
    "version": 3
   },
   "file_extension": ".py",
   "mimetype": "text/x-python",
   "name": "python",
   "nbconvert_exporter": "python",
   "pygments_lexer": "ipython3",
   "version": "3.10.16"
  }
 },
 "nbformat": 4,
 "nbformat_minor": 5
}
