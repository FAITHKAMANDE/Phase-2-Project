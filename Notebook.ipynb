{
 "cells": [
  {
   "cell_type": "markdown",
   "id": "3661d547-2632-4d61-b163-9d3a46b14044",
   "metadata": {},
   "source": [
    "##  BUSINESS PROBLEM "
   ]
  },
  {
   "cell_type": "markdown",
   "id": "a9ee7865-3bbd-4502-a0b4-8ce14b9815dc",
   "metadata": {},
   "source": [
    "Your company now sees all the big companies creating original video content and they want to get in on the fun. They have decided to create a new movie studio, but they don’t know anything about creating movies. You are charged with exploring what types of films are currently doing the best at the box office. You must then translate those findings into actionable insights that the head of your company's new movie studio can use to help decide what type of films to create.\n",
    "\n"
   ]
  },
  {
   "cell_type": "markdown",
   "id": "9b0bd25c-d73d-4ae4-94d8-75d78c27be41",
   "metadata": {},
   "source": [
    "##  AIM AND GOALS"
   ]
  },
  {
   "cell_type": "markdown",
   "id": "8d11313c-8362-471e-8151-2b11b42d08a7",
   "metadata": {},
   "source": [
    "The aim of this analysis is to identify the key characteristics of successful films both financially and critically  and to provide data driven recommendations that will guide the company's new movie studio in creating profitable and appealing content. This includes examining factors such as genre performance, budget efficiency, audience and critic sentiment, and seasonal trends to uncover what truly drives box office success. \n",
    "- To identify the characteristics of successful films  and provide data-driven recommendations for creating profitable and appealing content.\n",
    "- Identify Profitable Film Types by finding which genres, budgets, or production patterns lead to high profits.\n",
    "- Understand Genre Performance by determining which genres consistently perform well in revenue and reviews.\n",
    "- Evaluating the Impact of Budget on Success by understanding if high-budget films always perform better.\n",
    "- Analyze Audience Sentiment and Engagement by knowing what audiences love based on ratings, reviews, and popularity.\n",
    "- Critic vs Audience Preference achieved by checking if critically acclaimed movies align with audience favorites.\n",
    "- Find Seasonal or Time-Based Trends and if release timing affects success.\n",
    "- Assess Studio Competitors and understanding what established studios are doing right.\n",
    "- Make Actionable Recommendations and Provide specific guidance on what films to make.\n",
    "\n"
   ]
  },
  {
   "cell_type": "markdown",
   "id": "8c59a94b-92c3-4e9b-9572-211c77fab9c5",
   "metadata": {},
   "source": [
    "### 1. IMPORTING LIBRARIES,LOADING THE DATAS AND UNDERSTANDING THE DATA."
   ]
  },
  {
   "cell_type": "code",
   "execution_count": 90,
   "id": "97cf5dcc-f52e-437a-aa41-e128105ee11c",
   "metadata": {},
   "outputs": [],
   "source": [
    "#Importing the libraries\n",
    "import pandas as pd \n",
    "import sqlite3\n",
    "import matplotlib.pyplot as plt\n",
    "import seaborn as sns"
   ]
  },
  {
   "cell_type": "code",
   "execution_count": 91,
   "id": "28c4d65a-ec94-4c72-a95a-0ca9e87d2845",
   "metadata": {},
   "outputs": [
    {
     "data": {
      "text/html": [
       "<div>\n",
       "<style scoped>\n",
       "    .dataframe tbody tr th:only-of-type {\n",
       "        vertical-align: middle;\n",
       "    }\n",
       "\n",
       "    .dataframe tbody tr th {\n",
       "        vertical-align: top;\n",
       "    }\n",
       "\n",
       "    .dataframe thead th {\n",
       "        text-align: right;\n",
       "    }\n",
       "</style>\n",
       "<table border=\"1\" class=\"dataframe\">\n",
       "  <thead>\n",
       "    <tr style=\"text-align: right;\">\n",
       "      <th></th>\n",
       "      <th>title</th>\n",
       "      <th>studio</th>\n",
       "      <th>domestic_gross</th>\n",
       "      <th>foreign_gross</th>\n",
       "      <th>year</th>\n",
       "    </tr>\n",
       "  </thead>\n",
       "  <tbody>\n",
       "    <tr>\n",
       "      <th>0</th>\n",
       "      <td>Toy Story 3</td>\n",
       "      <td>BV</td>\n",
       "      <td>415000000.0</td>\n",
       "      <td>652000000</td>\n",
       "      <td>2010</td>\n",
       "    </tr>\n",
       "    <tr>\n",
       "      <th>1</th>\n",
       "      <td>Alice in Wonderland (2010)</td>\n",
       "      <td>BV</td>\n",
       "      <td>334200000.0</td>\n",
       "      <td>691300000</td>\n",
       "      <td>2010</td>\n",
       "    </tr>\n",
       "    <tr>\n",
       "      <th>2</th>\n",
       "      <td>Harry Potter and the Deathly Hallows Part 1</td>\n",
       "      <td>WB</td>\n",
       "      <td>296000000.0</td>\n",
       "      <td>664300000</td>\n",
       "      <td>2010</td>\n",
       "    </tr>\n",
       "    <tr>\n",
       "      <th>3</th>\n",
       "      <td>Inception</td>\n",
       "      <td>WB</td>\n",
       "      <td>292600000.0</td>\n",
       "      <td>535700000</td>\n",
       "      <td>2010</td>\n",
       "    </tr>\n",
       "    <tr>\n",
       "      <th>4</th>\n",
       "      <td>Shrek Forever After</td>\n",
       "      <td>P/DW</td>\n",
       "      <td>238700000.0</td>\n",
       "      <td>513900000</td>\n",
       "      <td>2010</td>\n",
       "    </tr>\n",
       "  </tbody>\n",
       "</table>\n",
       "</div>"
      ],
      "text/plain": [
       "                                         title studio  domestic_gross  \\\n",
       "0                                  Toy Story 3     BV     415000000.0   \n",
       "1                   Alice in Wonderland (2010)     BV     334200000.0   \n",
       "2  Harry Potter and the Deathly Hallows Part 1     WB     296000000.0   \n",
       "3                                    Inception     WB     292600000.0   \n",
       "4                          Shrek Forever After   P/DW     238700000.0   \n",
       "\n",
       "  foreign_gross  year  \n",
       "0     652000000  2010  \n",
       "1     691300000  2010  \n",
       "2     664300000  2010  \n",
       "3     535700000  2010  \n",
       "4     513900000  2010  "
      ]
     },
     "execution_count": 91,
     "metadata": {},
     "output_type": "execute_result"
    }
   ],
   "source": [
    "movies_finance = pd.read_csv(\"Data/bom.movie_gross.csv\")\n",
    "movies_finance.head()"
   ]
  },
  {
   "cell_type": "markdown",
   "id": "01619fdb-a1cd-4945-b3a9-1e3aec25d794",
   "metadata": {},
   "source": [
    "- The dataset above represents movies financial performance information"
   ]
  },
  {
   "cell_type": "code",
   "execution_count": 92,
   "id": "fa71666a-573b-422c-b5da-9c2115aedf08",
   "metadata": {},
   "outputs": [
    {
     "data": {
      "text/html": [
       "<div>\n",
       "<style scoped>\n",
       "    .dataframe tbody tr th:only-of-type {\n",
       "        vertical-align: middle;\n",
       "    }\n",
       "\n",
       "    .dataframe tbody tr th {\n",
       "        vertical-align: top;\n",
       "    }\n",
       "\n",
       "    .dataframe thead th {\n",
       "        text-align: right;\n",
       "    }\n",
       "</style>\n",
       "<table border=\"1\" class=\"dataframe\">\n",
       "  <thead>\n",
       "    <tr style=\"text-align: right;\">\n",
       "      <th></th>\n",
       "      <th>id</th>\n",
       "      <th>synopsis</th>\n",
       "      <th>rating</th>\n",
       "      <th>genre</th>\n",
       "      <th>director</th>\n",
       "      <th>writer</th>\n",
       "      <th>theater_date</th>\n",
       "      <th>dvd_date</th>\n",
       "      <th>currency</th>\n",
       "      <th>box_office</th>\n",
       "      <th>runtime</th>\n",
       "      <th>studio</th>\n",
       "    </tr>\n",
       "  </thead>\n",
       "  <tbody>\n",
       "    <tr>\n",
       "      <th>0</th>\n",
       "      <td>1</td>\n",
       "      <td>This gritty, fast-paced, and innovative police...</td>\n",
       "      <td>R</td>\n",
       "      <td>Action and Adventure|Classics|Drama</td>\n",
       "      <td>William Friedkin</td>\n",
       "      <td>Ernest Tidyman</td>\n",
       "      <td>Oct 9, 1971</td>\n",
       "      <td>Sep 25, 2001</td>\n",
       "      <td>NaN</td>\n",
       "      <td>NaN</td>\n",
       "      <td>104 minutes</td>\n",
       "      <td>NaN</td>\n",
       "    </tr>\n",
       "    <tr>\n",
       "      <th>1</th>\n",
       "      <td>3</td>\n",
       "      <td>New York City, not-too-distant-future: Eric Pa...</td>\n",
       "      <td>R</td>\n",
       "      <td>Drama|Science Fiction and Fantasy</td>\n",
       "      <td>David Cronenberg</td>\n",
       "      <td>David Cronenberg|Don DeLillo</td>\n",
       "      <td>Aug 17, 2012</td>\n",
       "      <td>Jan 1, 2013</td>\n",
       "      <td>$</td>\n",
       "      <td>600,000</td>\n",
       "      <td>108 minutes</td>\n",
       "      <td>Entertainment One</td>\n",
       "    </tr>\n",
       "    <tr>\n",
       "      <th>2</th>\n",
       "      <td>5</td>\n",
       "      <td>Illeana Douglas delivers a superb performance ...</td>\n",
       "      <td>R</td>\n",
       "      <td>Drama|Musical and Performing Arts</td>\n",
       "      <td>Allison Anders</td>\n",
       "      <td>Allison Anders</td>\n",
       "      <td>Sep 13, 1996</td>\n",
       "      <td>Apr 18, 2000</td>\n",
       "      <td>NaN</td>\n",
       "      <td>NaN</td>\n",
       "      <td>116 minutes</td>\n",
       "      <td>NaN</td>\n",
       "    </tr>\n",
       "  </tbody>\n",
       "</table>\n",
       "</div>"
      ],
      "text/plain": [
       "   id                                           synopsis rating  \\\n",
       "0   1  This gritty, fast-paced, and innovative police...      R   \n",
       "1   3  New York City, not-too-distant-future: Eric Pa...      R   \n",
       "2   5  Illeana Douglas delivers a superb performance ...      R   \n",
       "\n",
       "                                 genre          director  \\\n",
       "0  Action and Adventure|Classics|Drama  William Friedkin   \n",
       "1    Drama|Science Fiction and Fantasy  David Cronenberg   \n",
       "2    Drama|Musical and Performing Arts    Allison Anders   \n",
       "\n",
       "                         writer  theater_date      dvd_date currency  \\\n",
       "0                Ernest Tidyman   Oct 9, 1971  Sep 25, 2001      NaN   \n",
       "1  David Cronenberg|Don DeLillo  Aug 17, 2012   Jan 1, 2013        $   \n",
       "2                Allison Anders  Sep 13, 1996  Apr 18, 2000      NaN   \n",
       "\n",
       "  box_office      runtime             studio  \n",
       "0        NaN  104 minutes                NaN  \n",
       "1    600,000  108 minutes  Entertainment One  \n",
       "2        NaN  116 minutes                NaN  "
      ]
     },
     "execution_count": 92,
     "metadata": {},
     "output_type": "execute_result"
    }
   ],
   "source": [
    "movies_details = pd.read_csv(\"Data/rt.movie_info.tsv\", sep=\"\\t\")\n",
    "movies_details.head(n=3)"
   ]
  },
  {
   "cell_type": "markdown",
   "id": "cbc355a8-1c23-4c71-aba8-2729b3cfe339",
   "metadata": {},
   "source": [
    "- The above dataset is more about descriptive and release information like who made the movie, what it's about, how long it is and when it came out."
   ]
  },
  {
   "cell_type": "code",
   "execution_count": 93,
   "id": "4d33fa58-c03a-498c-a25d-205fc1310f29",
   "metadata": {},
   "outputs": [
    {
     "data": {
      "text/html": [
       "<div>\n",
       "<style scoped>\n",
       "    .dataframe tbody tr th:only-of-type {\n",
       "        vertical-align: middle;\n",
       "    }\n",
       "\n",
       "    .dataframe tbody tr th {\n",
       "        vertical-align: top;\n",
       "    }\n",
       "\n",
       "    .dataframe thead th {\n",
       "        text-align: right;\n",
       "    }\n",
       "</style>\n",
       "<table border=\"1\" class=\"dataframe\">\n",
       "  <thead>\n",
       "    <tr style=\"text-align: right;\">\n",
       "      <th></th>\n",
       "      <th>id</th>\n",
       "      <th>review</th>\n",
       "      <th>rating</th>\n",
       "      <th>fresh</th>\n",
       "      <th>critic</th>\n",
       "      <th>top_critic</th>\n",
       "      <th>publisher</th>\n",
       "      <th>date</th>\n",
       "    </tr>\n",
       "  </thead>\n",
       "  <tbody>\n",
       "    <tr>\n",
       "      <th>0</th>\n",
       "      <td>3</td>\n",
       "      <td>A distinctly gallows take on contemporary fina...</td>\n",
       "      <td>3/5</td>\n",
       "      <td>fresh</td>\n",
       "      <td>PJ Nabarro</td>\n",
       "      <td>0</td>\n",
       "      <td>Patrick Nabarro</td>\n",
       "      <td>November 10, 2018</td>\n",
       "    </tr>\n",
       "    <tr>\n",
       "      <th>1</th>\n",
       "      <td>3</td>\n",
       "      <td>It's an allegory in search of a meaning that n...</td>\n",
       "      <td>NaN</td>\n",
       "      <td>rotten</td>\n",
       "      <td>Annalee Newitz</td>\n",
       "      <td>0</td>\n",
       "      <td>io9.com</td>\n",
       "      <td>May 23, 2018</td>\n",
       "    </tr>\n",
       "    <tr>\n",
       "      <th>2</th>\n",
       "      <td>3</td>\n",
       "      <td>... life lived in a bubble in financial dealin...</td>\n",
       "      <td>NaN</td>\n",
       "      <td>fresh</td>\n",
       "      <td>Sean Axmaker</td>\n",
       "      <td>0</td>\n",
       "      <td>Stream on Demand</td>\n",
       "      <td>January 4, 2018</td>\n",
       "    </tr>\n",
       "    <tr>\n",
       "      <th>3</th>\n",
       "      <td>3</td>\n",
       "      <td>Continuing along a line introduced in last yea...</td>\n",
       "      <td>NaN</td>\n",
       "      <td>fresh</td>\n",
       "      <td>Daniel Kasman</td>\n",
       "      <td>0</td>\n",
       "      <td>MUBI</td>\n",
       "      <td>November 16, 2017</td>\n",
       "    </tr>\n",
       "    <tr>\n",
       "      <th>4</th>\n",
       "      <td>3</td>\n",
       "      <td>... a perverse twist on neorealism...</td>\n",
       "      <td>NaN</td>\n",
       "      <td>fresh</td>\n",
       "      <td>NaN</td>\n",
       "      <td>0</td>\n",
       "      <td>Cinema Scope</td>\n",
       "      <td>October 12, 2017</td>\n",
       "    </tr>\n",
       "  </tbody>\n",
       "</table>\n",
       "</div>"
      ],
      "text/plain": [
       "   id                                             review rating   fresh  \\\n",
       "0   3  A distinctly gallows take on contemporary fina...    3/5   fresh   \n",
       "1   3  It's an allegory in search of a meaning that n...    NaN  rotten   \n",
       "2   3  ... life lived in a bubble in financial dealin...    NaN   fresh   \n",
       "3   3  Continuing along a line introduced in last yea...    NaN   fresh   \n",
       "4   3             ... a perverse twist on neorealism...     NaN   fresh   \n",
       "\n",
       "           critic  top_critic         publisher               date  \n",
       "0      PJ Nabarro           0   Patrick Nabarro  November 10, 2018  \n",
       "1  Annalee Newitz           0           io9.com       May 23, 2018  \n",
       "2    Sean Axmaker           0  Stream on Demand    January 4, 2018  \n",
       "3   Daniel Kasman           0              MUBI  November 16, 2017  \n",
       "4             NaN           0      Cinema Scope   October 12, 2017  "
      ]
     },
     "execution_count": 93,
     "metadata": {},
     "output_type": "execute_result"
    }
   ],
   "source": [
    "critics_review = pd.read_csv(\"Data/rt.reviews.tsv\", sep=\"\\t\",encoding='iso-8859-1')\n",
    "critics_review.head()"
   ]
  },
  {
   "cell_type": "markdown",
   "id": "75562227-a7d4-4238-91f0-36e6f0c6575b",
   "metadata": {},
   "source": [
    "- This dataset is about how critics reviewed the movies,What they wrote ,How they rated it (scores),Whether they liked it or not (fresh/rotten)and where the review came from and date."
   ]
  },
  {
   "cell_type": "code",
   "execution_count": 94,
   "id": "e8b7e858-bd5e-46fa-a1be-b30ed2dd38cf",
   "metadata": {},
   "outputs": [
    {
     "data": {
      "text/html": [
       "<div>\n",
       "<style scoped>\n",
       "    .dataframe tbody tr th:only-of-type {\n",
       "        vertical-align: middle;\n",
       "    }\n",
       "\n",
       "    .dataframe tbody tr th {\n",
       "        vertical-align: top;\n",
       "    }\n",
       "\n",
       "    .dataframe thead th {\n",
       "        text-align: right;\n",
       "    }\n",
       "</style>\n",
       "<table border=\"1\" class=\"dataframe\">\n",
       "  <thead>\n",
       "    <tr style=\"text-align: right;\">\n",
       "      <th></th>\n",
       "      <th>Unnamed: 0</th>\n",
       "      <th>genre_ids</th>\n",
       "      <th>id</th>\n",
       "      <th>original_language</th>\n",
       "      <th>original_title</th>\n",
       "      <th>popularity</th>\n",
       "      <th>release_date</th>\n",
       "      <th>title</th>\n",
       "      <th>vote_average</th>\n",
       "      <th>vote_count</th>\n",
       "    </tr>\n",
       "  </thead>\n",
       "  <tbody>\n",
       "    <tr>\n",
       "      <th>0</th>\n",
       "      <td>0</td>\n",
       "      <td>[12, 14, 10751]</td>\n",
       "      <td>12444</td>\n",
       "      <td>en</td>\n",
       "      <td>Harry Potter and the Deathly Hallows: Part 1</td>\n",
       "      <td>33.533</td>\n",
       "      <td>2010-11-19</td>\n",
       "      <td>Harry Potter and the Deathly Hallows: Part 1</td>\n",
       "      <td>7.7</td>\n",
       "      <td>10788</td>\n",
       "    </tr>\n",
       "    <tr>\n",
       "      <th>1</th>\n",
       "      <td>1</td>\n",
       "      <td>[14, 12, 16, 10751]</td>\n",
       "      <td>10191</td>\n",
       "      <td>en</td>\n",
       "      <td>How to Train Your Dragon</td>\n",
       "      <td>28.734</td>\n",
       "      <td>2010-03-26</td>\n",
       "      <td>How to Train Your Dragon</td>\n",
       "      <td>7.7</td>\n",
       "      <td>7610</td>\n",
       "    </tr>\n",
       "    <tr>\n",
       "      <th>2</th>\n",
       "      <td>2</td>\n",
       "      <td>[12, 28, 878]</td>\n",
       "      <td>10138</td>\n",
       "      <td>en</td>\n",
       "      <td>Iron Man 2</td>\n",
       "      <td>28.515</td>\n",
       "      <td>2010-05-07</td>\n",
       "      <td>Iron Man 2</td>\n",
       "      <td>6.8</td>\n",
       "      <td>12368</td>\n",
       "    </tr>\n",
       "    <tr>\n",
       "      <th>3</th>\n",
       "      <td>3</td>\n",
       "      <td>[16, 35, 10751]</td>\n",
       "      <td>862</td>\n",
       "      <td>en</td>\n",
       "      <td>Toy Story</td>\n",
       "      <td>28.005</td>\n",
       "      <td>1995-11-22</td>\n",
       "      <td>Toy Story</td>\n",
       "      <td>7.9</td>\n",
       "      <td>10174</td>\n",
       "    </tr>\n",
       "    <tr>\n",
       "      <th>4</th>\n",
       "      <td>4</td>\n",
       "      <td>[28, 878, 12]</td>\n",
       "      <td>27205</td>\n",
       "      <td>en</td>\n",
       "      <td>Inception</td>\n",
       "      <td>27.920</td>\n",
       "      <td>2010-07-16</td>\n",
       "      <td>Inception</td>\n",
       "      <td>8.3</td>\n",
       "      <td>22186</td>\n",
       "    </tr>\n",
       "  </tbody>\n",
       "</table>\n",
       "</div>"
      ],
      "text/plain": [
       "   Unnamed: 0            genre_ids     id original_language  \\\n",
       "0           0      [12, 14, 10751]  12444                en   \n",
       "1           1  [14, 12, 16, 10751]  10191                en   \n",
       "2           2        [12, 28, 878]  10138                en   \n",
       "3           3      [16, 35, 10751]    862                en   \n",
       "4           4        [28, 878, 12]  27205                en   \n",
       "\n",
       "                                 original_title  popularity release_date  \\\n",
       "0  Harry Potter and the Deathly Hallows: Part 1      33.533   2010-11-19   \n",
       "1                      How to Train Your Dragon      28.734   2010-03-26   \n",
       "2                                    Iron Man 2      28.515   2010-05-07   \n",
       "3                                     Toy Story      28.005   1995-11-22   \n",
       "4                                     Inception      27.920   2010-07-16   \n",
       "\n",
       "                                          title  vote_average  vote_count  \n",
       "0  Harry Potter and the Deathly Hallows: Part 1           7.7       10788  \n",
       "1                      How to Train Your Dragon           7.7        7610  \n",
       "2                                    Iron Man 2           6.8       12368  \n",
       "3                                     Toy Story           7.9       10174  \n",
       "4                                     Inception           8.3       22186  "
      ]
     },
     "execution_count": 94,
     "metadata": {},
     "output_type": "execute_result"
    }
   ],
   "source": [
    "audience_rating = pd.read_csv(\"Data/tmdb.movies.csv\")\n",
    "audience_rating.head()"
   ]
  },
  {
   "cell_type": "markdown",
   "id": "b87826ee-37e9-4522-b453-5b128d4f7144",
   "metadata": {},
   "source": [
    "- This dataset is about how audiences rate and interact with movies"
   ]
  },
  {
   "cell_type": "code",
   "execution_count": 95,
   "id": "56ed567c-c5a1-4ac0-aba4-e32127d9cca1",
   "metadata": {},
   "outputs": [
    {
     "data": {
      "text/html": [
       "<div>\n",
       "<style scoped>\n",
       "    .dataframe tbody tr th:only-of-type {\n",
       "        vertical-align: middle;\n",
       "    }\n",
       "\n",
       "    .dataframe tbody tr th {\n",
       "        vertical-align: top;\n",
       "    }\n",
       "\n",
       "    .dataframe thead th {\n",
       "        text-align: right;\n",
       "    }\n",
       "</style>\n",
       "<table border=\"1\" class=\"dataframe\">\n",
       "  <thead>\n",
       "    <tr style=\"text-align: right;\">\n",
       "      <th></th>\n",
       "      <th>id</th>\n",
       "      <th>release_date</th>\n",
       "      <th>movie</th>\n",
       "      <th>production_budget</th>\n",
       "      <th>domestic_gross</th>\n",
       "      <th>worldwide_gross</th>\n",
       "    </tr>\n",
       "  </thead>\n",
       "  <tbody>\n",
       "    <tr>\n",
       "      <th>0</th>\n",
       "      <td>1</td>\n",
       "      <td>Dec 18, 2009</td>\n",
       "      <td>Avatar</td>\n",
       "      <td>$425,000,000</td>\n",
       "      <td>$760,507,625</td>\n",
       "      <td>$2,776,345,279</td>\n",
       "    </tr>\n",
       "    <tr>\n",
       "      <th>1</th>\n",
       "      <td>2</td>\n",
       "      <td>May 20, 2011</td>\n",
       "      <td>Pirates of the Caribbean: On Stranger Tides</td>\n",
       "      <td>$410,600,000</td>\n",
       "      <td>$241,063,875</td>\n",
       "      <td>$1,045,663,875</td>\n",
       "    </tr>\n",
       "    <tr>\n",
       "      <th>2</th>\n",
       "      <td>3</td>\n",
       "      <td>Jun 7, 2019</td>\n",
       "      <td>Dark Phoenix</td>\n",
       "      <td>$350,000,000</td>\n",
       "      <td>$42,762,350</td>\n",
       "      <td>$149,762,350</td>\n",
       "    </tr>\n",
       "    <tr>\n",
       "      <th>3</th>\n",
       "      <td>4</td>\n",
       "      <td>May 1, 2015</td>\n",
       "      <td>Avengers: Age of Ultron</td>\n",
       "      <td>$330,600,000</td>\n",
       "      <td>$459,005,868</td>\n",
       "      <td>$1,403,013,963</td>\n",
       "    </tr>\n",
       "    <tr>\n",
       "      <th>4</th>\n",
       "      <td>5</td>\n",
       "      <td>Dec 15, 2017</td>\n",
       "      <td>Star Wars Ep. VIII: The Last Jedi</td>\n",
       "      <td>$317,000,000</td>\n",
       "      <td>$620,181,382</td>\n",
       "      <td>$1,316,721,747</td>\n",
       "    </tr>\n",
       "  </tbody>\n",
       "</table>\n",
       "</div>"
      ],
      "text/plain": [
       "   id  release_date                                        movie  \\\n",
       "0   1  Dec 18, 2009                                       Avatar   \n",
       "1   2  May 20, 2011  Pirates of the Caribbean: On Stranger Tides   \n",
       "2   3   Jun 7, 2019                                 Dark Phoenix   \n",
       "3   4   May 1, 2015                      Avengers: Age of Ultron   \n",
       "4   5  Dec 15, 2017            Star Wars Ep. VIII: The Last Jedi   \n",
       "\n",
       "  production_budget domestic_gross worldwide_gross  \n",
       "0      $425,000,000   $760,507,625  $2,776,345,279  \n",
       "1      $410,600,000   $241,063,875  $1,045,663,875  \n",
       "2      $350,000,000    $42,762,350    $149,762,350  \n",
       "3      $330,600,000   $459,005,868  $1,403,013,963  \n",
       "4      $317,000,000   $620,181,382  $1,316,721,747  "
      ]
     },
     "execution_count": 95,
     "metadata": {},
     "output_type": "execute_result"
    }
   ],
   "source": [
    "budgets = pd.read_csv(\"Data/tn.movie_budgets.csv\")\n",
    "budgets.head()"
   ]
  },
  {
   "cell_type": "markdown",
   "id": "cc8735bd-4460-4e06-ae82-f0ca12bce705",
   "metadata": {},
   "source": [
    "- This dataset is all about cost vs profit"
   ]
  },
  {
   "cell_type": "code",
   "execution_count": 133,
   "id": "e7e00b28-fdd1-4e0a-af68-ccbe88b1bd77",
   "metadata": {},
   "outputs": [
    {
     "ename": "OperationalError",
     "evalue": "unable to open database file",
     "output_type": "error",
     "traceback": [
      "\u001b[0;31m---------------------------------------------------------------------------\u001b[0m",
      "\u001b[0;31mOperationalError\u001b[0m                          Traceback (most recent call last)",
      "Cell \u001b[0;32mIn[133], line 3\u001b[0m\n\u001b[1;32m      1\u001b[0m \u001b[38;5;66;03m#Viewing the available data in the database\u001b[39;00m\n\u001b[1;32m      2\u001b[0m \u001b[38;5;66;03m# Connect to the database\u001b[39;00m\n\u001b[0;32m----> 3\u001b[0m conn \u001b[38;5;241m=\u001b[39m \u001b[43msqlite3\u001b[49m\u001b[38;5;241;43m.\u001b[39;49m\u001b[43mconnect\u001b[49m\u001b[43m(\u001b[49m\u001b[38;5;124;43m'\u001b[39;49m\u001b[38;5;124;43mDesktop/Phase 2 project/im.db\u001b[39;49m\u001b[38;5;124;43m'\u001b[39;49m\u001b[43m)\u001b[49m\n\u001b[1;32m      5\u001b[0m \u001b[38;5;66;03m# Find all table names\u001b[39;00m\n\u001b[1;32m      6\u001b[0m tables \u001b[38;5;241m=\u001b[39m pd\u001b[38;5;241m.\u001b[39mread_sql(\u001b[38;5;124m\"\u001b[39m\u001b[38;5;124mSELECT name FROM sqlite_master WHERE type=\u001b[39m\u001b[38;5;124m'\u001b[39m\u001b[38;5;124mtable\u001b[39m\u001b[38;5;124m'\u001b[39m\u001b[38;5;124m;\u001b[39m\u001b[38;5;124m\"\u001b[39m, conn)\n",
      "\u001b[0;31mOperationalError\u001b[0m: unable to open database file"
     ]
    }
   ],
   "source": [
    "#Viewing the available data in the database\n",
    "# Connect to the database\n",
    "conn = sqlite3.connect('Desktop/Phase 2 project/im.db')\n",
    "\n",
    "# Find all table names\n",
    "tables = pd.read_sql(\"SELECT name FROM sqlite_master WHERE type='table';\", conn)\n",
    "tables\n"
   ]
  },
  {
   "cell_type": "markdown",
   "id": "437c19b5-57ce-469f-82f2-c845b51faf4c",
   "metadata": {},
   "source": [
    "The above results shows all the tables inside im.db."
   ]
  },
  {
   "cell_type": "markdown",
   "id": "fd96361c-e366-428a-8b11-116c110adefc",
   "metadata": {},
   "source": [
    "### 2. CLEANING THE DATA"
   ]
  },
  {
   "cell_type": "markdown",
   "id": "30516e3e-b100-4f28-a086-0e4a2c6a8eb1",
   "metadata": {},
   "source": [
    "##### 1) movies_finance"
   ]
  },
  {
   "cell_type": "code",
   "execution_count": 97,
   "id": "6e427168-9c33-4e69-a998-200871e1a07e",
   "metadata": {},
   "outputs": [
    {
     "name": "stdout",
     "output_type": "stream",
     "text": [
      "<class 'pandas.core.frame.DataFrame'>\n",
      "RangeIndex: 3387 entries, 0 to 3386\n",
      "Data columns (total 5 columns):\n",
      " #   Column          Non-Null Count  Dtype  \n",
      "---  ------          --------------  -----  \n",
      " 0   title           3387 non-null   object \n",
      " 1   studio          3382 non-null   object \n",
      " 2   domestic_gross  3359 non-null   float64\n",
      " 3   foreign_gross   2037 non-null   object \n",
      " 4   year            3387 non-null   int64  \n",
      "dtypes: float64(1), int64(1), object(3)\n",
      "memory usage: 132.4+ KB\n"
     ]
    }
   ],
   "source": [
    "movies_finance.info()"
   ]
  },
  {
   "cell_type": "code",
   "execution_count": 98,
   "id": "a4af0c41-1f7c-45cf-b088-fe7ee0814039",
   "metadata": {},
   "outputs": [],
   "source": [
    "#Filling the missing values with \"Unknown\"\n",
    "movies_finance[\"studio\"] = movies_finance[\"studio\"].fillna(\"Unknown\")"
   ]
  },
  {
   "cell_type": "code",
   "execution_count": 99,
   "id": "92a52344-9345-4b50-a5af-cb5b5c4e9b26",
   "metadata": {},
   "outputs": [],
   "source": [
    "#Filling the missing value with 0 as a placeholder\n",
    "movies_finance[\"domestic_gross\"]= movies_finance[\"domestic_gross\"].fillna(0)"
   ]
  },
  {
   "cell_type": "code",
   "execution_count": 100,
   "id": "a5ef6917-46de-4a8e-a90f-92ed93d3f2fb",
   "metadata": {},
   "outputs": [],
   "source": [
    "#Filling the missing value with 0 as a placeholder\n",
    "movies_finance[\"foreign_gross\"] = movies_finance[\"foreign_gross\"].fillna(0).astype(str)"
   ]
  },
  {
   "cell_type": "code",
   "execution_count": 101,
   "id": "ede61dc4-9bb6-4c48-ab6d-ba7fbabaf7f5",
   "metadata": {},
   "outputs": [],
   "source": [
    "# Remove commas and converting to float\n",
    "movies_finance[\"foreign_gross\"] = movies_finance[\"foreign_gross\"].str.replace(',', '').astype('float64')"
   ]
  },
  {
   "cell_type": "code",
   "execution_count": 102,
   "id": "058a6857-ebcd-4e7c-bada-dd39c3e14231",
   "metadata": {},
   "outputs": [
    {
     "name": "stdout",
     "output_type": "stream",
     "text": [
      "<class 'pandas.core.frame.DataFrame'>\n",
      "RangeIndex: 3387 entries, 0 to 3386\n",
      "Data columns (total 5 columns):\n",
      " #   Column          Non-Null Count  Dtype  \n",
      "---  ------          --------------  -----  \n",
      " 0   title           3387 non-null   object \n",
      " 1   studio          3387 non-null   object \n",
      " 2   domestic_gross  3387 non-null   float64\n",
      " 3   foreign_gross   3387 non-null   float64\n",
      " 4   year            3387 non-null   int64  \n",
      "dtypes: float64(2), int64(1), object(2)\n",
      "memory usage: 132.4+ KB\n"
     ]
    }
   ],
   "source": [
    "#Veryfying the changes have been implemented\n",
    "movies_finance.info()"
   ]
  },
  {
   "cell_type": "markdown",
   "id": "486b6f9e-b3a2-4d12-8e74-bd69ea1970e4",
   "metadata": {},
   "source": [
    "##### 2) movies_details"
   ]
  },
  {
   "cell_type": "code",
   "execution_count": 103,
   "id": "d0b2ceda-e91d-454e-9465-6d2bff05ed89",
   "metadata": {},
   "outputs": [
    {
     "name": "stdout",
     "output_type": "stream",
     "text": [
      "<class 'pandas.core.frame.DataFrame'>\n",
      "RangeIndex: 1560 entries, 0 to 1559\n",
      "Data columns (total 12 columns):\n",
      " #   Column        Non-Null Count  Dtype \n",
      "---  ------        --------------  ----- \n",
      " 0   id            1560 non-null   int64 \n",
      " 1   synopsis      1498 non-null   object\n",
      " 2   rating        1557 non-null   object\n",
      " 3   genre         1552 non-null   object\n",
      " 4   director      1361 non-null   object\n",
      " 5   writer        1111 non-null   object\n",
      " 6   theater_date  1201 non-null   object\n",
      " 7   dvd_date      1201 non-null   object\n",
      " 8   currency      340 non-null    object\n",
      " 9   box_office    340 non-null    object\n",
      " 10  runtime       1530 non-null   object\n",
      " 11  studio        494 non-null    object\n",
      "dtypes: int64(1), object(11)\n",
      "memory usage: 146.4+ KB\n"
     ]
    }
   ],
   "source": [
    "movies_details.info()"
   ]
  },
  {
   "cell_type": "code",
   "execution_count": 104,
   "id": "54740488-1777-4990-9423-f79c9ff2c0ae",
   "metadata": {
    "scrolled": true
   },
   "outputs": [
    {
     "data": {
      "text/html": [
       "<div>\n",
       "<style scoped>\n",
       "    .dataframe tbody tr th:only-of-type {\n",
       "        vertical-align: middle;\n",
       "    }\n",
       "\n",
       "    .dataframe tbody tr th {\n",
       "        vertical-align: top;\n",
       "    }\n",
       "\n",
       "    .dataframe thead th {\n",
       "        text-align: right;\n",
       "    }\n",
       "</style>\n",
       "<table border=\"1\" class=\"dataframe\">\n",
       "  <thead>\n",
       "    <tr style=\"text-align: right;\">\n",
       "      <th></th>\n",
       "      <th>id</th>\n",
       "      <th>synopsis</th>\n",
       "      <th>rating</th>\n",
       "      <th>genre</th>\n",
       "      <th>director</th>\n",
       "      <th>writer</th>\n",
       "      <th>theater_date</th>\n",
       "      <th>dvd_date</th>\n",
       "      <th>currency</th>\n",
       "      <th>box_office</th>\n",
       "      <th>runtime</th>\n",
       "      <th>studio</th>\n",
       "    </tr>\n",
       "  </thead>\n",
       "  <tbody>\n",
       "    <tr>\n",
       "      <th>0</th>\n",
       "      <td>1</td>\n",
       "      <td>This gritty, fast-paced, and innovative police...</td>\n",
       "      <td>R</td>\n",
       "      <td>Action and Adventure|Classics|Drama</td>\n",
       "      <td>William Friedkin</td>\n",
       "      <td>Ernest Tidyman</td>\n",
       "      <td>Oct 9, 1971</td>\n",
       "      <td>Sep 25, 2001</td>\n",
       "      <td>NaN</td>\n",
       "      <td>NaN</td>\n",
       "      <td>104 minutes</td>\n",
       "      <td>NaN</td>\n",
       "    </tr>\n",
       "    <tr>\n",
       "      <th>1</th>\n",
       "      <td>3</td>\n",
       "      <td>New York City, not-too-distant-future: Eric Pa...</td>\n",
       "      <td>R</td>\n",
       "      <td>Drama|Science Fiction and Fantasy</td>\n",
       "      <td>David Cronenberg</td>\n",
       "      <td>David Cronenberg|Don DeLillo</td>\n",
       "      <td>Aug 17, 2012</td>\n",
       "      <td>Jan 1, 2013</td>\n",
       "      <td>$</td>\n",
       "      <td>600,000</td>\n",
       "      <td>108 minutes</td>\n",
       "      <td>Entertainment One</td>\n",
       "    </tr>\n",
       "    <tr>\n",
       "      <th>2</th>\n",
       "      <td>5</td>\n",
       "      <td>Illeana Douglas delivers a superb performance ...</td>\n",
       "      <td>R</td>\n",
       "      <td>Drama|Musical and Performing Arts</td>\n",
       "      <td>Allison Anders</td>\n",
       "      <td>Allison Anders</td>\n",
       "      <td>Sep 13, 1996</td>\n",
       "      <td>Apr 18, 2000</td>\n",
       "      <td>NaN</td>\n",
       "      <td>NaN</td>\n",
       "      <td>116 minutes</td>\n",
       "      <td>NaN</td>\n",
       "    </tr>\n",
       "    <tr>\n",
       "      <th>3</th>\n",
       "      <td>6</td>\n",
       "      <td>Michael Douglas runs afoul of a treacherous su...</td>\n",
       "      <td>R</td>\n",
       "      <td>Drama|Mystery and Suspense</td>\n",
       "      <td>Barry Levinson</td>\n",
       "      <td>Paul Attanasio|Michael Crichton</td>\n",
       "      <td>Dec 9, 1994</td>\n",
       "      <td>Aug 27, 1997</td>\n",
       "      <td>NaN</td>\n",
       "      <td>NaN</td>\n",
       "      <td>128 minutes</td>\n",
       "      <td>NaN</td>\n",
       "    </tr>\n",
       "    <tr>\n",
       "      <th>4</th>\n",
       "      <td>7</td>\n",
       "      <td>NaN</td>\n",
       "      <td>NR</td>\n",
       "      <td>Drama|Romance</td>\n",
       "      <td>Rodney Bennett</td>\n",
       "      <td>Giles Cooper</td>\n",
       "      <td>NaN</td>\n",
       "      <td>NaN</td>\n",
       "      <td>NaN</td>\n",
       "      <td>NaN</td>\n",
       "      <td>200 minutes</td>\n",
       "      <td>NaN</td>\n",
       "    </tr>\n",
       "  </tbody>\n",
       "</table>\n",
       "</div>"
      ],
      "text/plain": [
       "   id                                           synopsis rating  \\\n",
       "0   1  This gritty, fast-paced, and innovative police...      R   \n",
       "1   3  New York City, not-too-distant-future: Eric Pa...      R   \n",
       "2   5  Illeana Douglas delivers a superb performance ...      R   \n",
       "3   6  Michael Douglas runs afoul of a treacherous su...      R   \n",
       "4   7                                                NaN     NR   \n",
       "\n",
       "                                 genre          director  \\\n",
       "0  Action and Adventure|Classics|Drama  William Friedkin   \n",
       "1    Drama|Science Fiction and Fantasy  David Cronenberg   \n",
       "2    Drama|Musical and Performing Arts    Allison Anders   \n",
       "3           Drama|Mystery and Suspense    Barry Levinson   \n",
       "4                        Drama|Romance    Rodney Bennett   \n",
       "\n",
       "                            writer  theater_date      dvd_date currency  \\\n",
       "0                   Ernest Tidyman   Oct 9, 1971  Sep 25, 2001      NaN   \n",
       "1     David Cronenberg|Don DeLillo  Aug 17, 2012   Jan 1, 2013        $   \n",
       "2                   Allison Anders  Sep 13, 1996  Apr 18, 2000      NaN   \n",
       "3  Paul Attanasio|Michael Crichton   Dec 9, 1994  Aug 27, 1997      NaN   \n",
       "4                     Giles Cooper           NaN           NaN      NaN   \n",
       "\n",
       "  box_office      runtime             studio  \n",
       "0        NaN  104 minutes                NaN  \n",
       "1    600,000  108 minutes  Entertainment One  \n",
       "2        NaN  116 minutes                NaN  \n",
       "3        NaN  128 minutes                NaN  \n",
       "4        NaN  200 minutes                NaN  "
      ]
     },
     "execution_count": 104,
     "metadata": {},
     "output_type": "execute_result"
    }
   ],
   "source": [
    "movies_details.head()"
   ]
  },
  {
   "cell_type": "code",
   "execution_count": 105,
   "id": "9c4d7b0d-cb70-43b3-a9dc-8c114f00bc9e",
   "metadata": {},
   "outputs": [],
   "source": [
    "#Filling synopsis,rating,genre,director writer and studio with \"Unknown\"\n",
    "columns_to_fill = ['synopsis', 'rating', 'genre', 'director', 'writer', 'studio']\n",
    "\n",
    "for column in columns_to_fill:\n",
    "    movies_details[column] = movies_details[column].fillna(\"Unknown\")"
   ]
  },
  {
   "cell_type": "code",
   "execution_count": 106,
   "id": "396fe42f-80e5-4bfc-a889-02e117241750",
   "metadata": {},
   "outputs": [],
   "source": [
    "# Dropping the Currency and box_office column \n",
    "movies_details = movies_details.drop(columns=[\"currency\",\"box_office\"])"
   ]
  },
  {
   "cell_type": "code",
   "execution_count": 107,
   "id": "ee5ca1b2-7d81-482e-83e3-1966bfe98939",
   "metadata": {},
   "outputs": [],
   "source": [
    "# Fill missing values in 'runtime' with the mode (the most frequent value)\n",
    "movies_details['runtime'] = movies_details['runtime'].fillna(movies_details['runtime'].mode()[0])"
   ]
  },
  {
   "cell_type": "code",
   "execution_count": 108,
   "id": "d0082222-65d9-4431-b125-05a2f49da814",
   "metadata": {
    "scrolled": true
   },
   "outputs": [],
   "source": [
    "#Filling the missing values with a placeholder date \n",
    "placeholder_date = 'Jan 1, 1900' \n",
    "movies_details['theater_date'] = movies_details['theater_date'].fillna(placeholder_date)\n",
    "movies_details['dvd_date'] = movies_details['dvd_date'].fillna(placeholder_date)"
   ]
  },
  {
   "cell_type": "code",
   "execution_count": 109,
   "id": "c5a4d7c3-1c82-43e0-a613-fb168d025efd",
   "metadata": {},
   "outputs": [
    {
     "data": {
      "text/plain": [
       "rating\n",
       "R          521\n",
       "NR         503\n",
       "PG         240\n",
       "PG-13      235\n",
       "G           57\n",
       "Unknown      3\n",
       "NC17         1\n",
       "Name: count, dtype: int64"
      ]
     },
     "execution_count": 109,
     "metadata": {},
     "output_type": "execute_result"
    }
   ],
   "source": [
    "movies_details['rating'].value_counts()"
   ]
  },
  {
   "cell_type": "code",
   "execution_count": 110,
   "id": "4c24dd9f-4587-4045-8ead-25ac2d551f2f",
   "metadata": {},
   "outputs": [],
   "source": [
    "# Converting `theater_date` and `dvd_date` to datetime\n",
    "movies_details['theater_date'] = pd.to_datetime(movies_details['theater_date'], errors='coerce')\n",
    "movies_details['dvd_date'] = pd.to_datetime(movies_details['dvd_date'], errors='coerce')"
   ]
  },
  {
   "cell_type": "code",
   "execution_count": 111,
   "id": "04eb0f9b-1b10-4fb1-8eed-5ee4619e0ed2",
   "metadata": {},
   "outputs": [],
   "source": [
    "# Converting `runtime` to numeric after removing characters like, \" minutes\")\n",
    "movies_details['runtime'] = movies_details['runtime'].replace({' minutes': '', ',': ''}, regex=True)\n",
    "movies_details['runtime'] = pd.to_numeric(movies_details['runtime'], errors='coerce')"
   ]
  },
  {
   "cell_type": "code",
   "execution_count": 112,
   "id": "6f493180-6731-4705-8733-358f793ff869",
   "metadata": {},
   "outputs": [
    {
     "name": "stdout",
     "output_type": "stream",
     "text": [
      "<class 'pandas.core.frame.DataFrame'>\n",
      "RangeIndex: 1560 entries, 0 to 1559\n",
      "Data columns (total 10 columns):\n",
      " #   Column        Non-Null Count  Dtype         \n",
      "---  ------        --------------  -----         \n",
      " 0   id            1560 non-null   int64         \n",
      " 1   synopsis      1560 non-null   object        \n",
      " 2   rating        1560 non-null   object        \n",
      " 3   genre         1560 non-null   object        \n",
      " 4   director      1560 non-null   object        \n",
      " 5   writer        1560 non-null   object        \n",
      " 6   theater_date  1560 non-null   datetime64[ns]\n",
      " 7   dvd_date      1560 non-null   datetime64[ns]\n",
      " 8   runtime       1560 non-null   int64         \n",
      " 9   studio        1560 non-null   object        \n",
      "dtypes: datetime64[ns](2), int64(2), object(6)\n",
      "memory usage: 122.0+ KB\n"
     ]
    }
   ],
   "source": [
    "movies_details.info()"
   ]
  },
  {
   "cell_type": "markdown",
   "id": "38016fec-3888-4a0b-9859-f6ed30f262f4",
   "metadata": {},
   "source": [
    "##### 3) critics_review"
   ]
  },
  {
   "cell_type": "code",
   "execution_count": 113,
   "id": "f7e5d1b7-fa51-46b1-8cc4-1b40a1508028",
   "metadata": {},
   "outputs": [
    {
     "name": "stdout",
     "output_type": "stream",
     "text": [
      "<class 'pandas.core.frame.DataFrame'>\n",
      "RangeIndex: 54432 entries, 0 to 54431\n",
      "Data columns (total 8 columns):\n",
      " #   Column      Non-Null Count  Dtype \n",
      "---  ------      --------------  ----- \n",
      " 0   id          54432 non-null  int64 \n",
      " 1   review      48869 non-null  object\n",
      " 2   rating      40915 non-null  object\n",
      " 3   fresh       54432 non-null  object\n",
      " 4   critic      51710 non-null  object\n",
      " 5   top_critic  54432 non-null  int64 \n",
      " 6   publisher   54123 non-null  object\n",
      " 7   date        54432 non-null  object\n",
      "dtypes: int64(2), object(6)\n",
      "memory usage: 3.3+ MB\n"
     ]
    }
   ],
   "source": [
    "critics_review.info()"
   ]
  },
  {
   "cell_type": "code",
   "execution_count": 114,
   "id": "97359b1b-aaff-4193-a261-cfb01fd8be44",
   "metadata": {},
   "outputs": [
    {
     "data": {
      "text/html": [
       "<div>\n",
       "<style scoped>\n",
       "    .dataframe tbody tr th:only-of-type {\n",
       "        vertical-align: middle;\n",
       "    }\n",
       "\n",
       "    .dataframe tbody tr th {\n",
       "        vertical-align: top;\n",
       "    }\n",
       "\n",
       "    .dataframe thead th {\n",
       "        text-align: right;\n",
       "    }\n",
       "</style>\n",
       "<table border=\"1\" class=\"dataframe\">\n",
       "  <thead>\n",
       "    <tr style=\"text-align: right;\">\n",
       "      <th></th>\n",
       "      <th>id</th>\n",
       "      <th>review</th>\n",
       "      <th>rating</th>\n",
       "      <th>fresh</th>\n",
       "      <th>critic</th>\n",
       "      <th>top_critic</th>\n",
       "      <th>publisher</th>\n",
       "      <th>date</th>\n",
       "    </tr>\n",
       "  </thead>\n",
       "  <tbody>\n",
       "    <tr>\n",
       "      <th>0</th>\n",
       "      <td>3</td>\n",
       "      <td>A distinctly gallows take on contemporary fina...</td>\n",
       "      <td>3/5</td>\n",
       "      <td>fresh</td>\n",
       "      <td>PJ Nabarro</td>\n",
       "      <td>0</td>\n",
       "      <td>Patrick Nabarro</td>\n",
       "      <td>November 10, 2018</td>\n",
       "    </tr>\n",
       "    <tr>\n",
       "      <th>1</th>\n",
       "      <td>3</td>\n",
       "      <td>It's an allegory in search of a meaning that n...</td>\n",
       "      <td>NaN</td>\n",
       "      <td>rotten</td>\n",
       "      <td>Annalee Newitz</td>\n",
       "      <td>0</td>\n",
       "      <td>io9.com</td>\n",
       "      <td>May 23, 2018</td>\n",
       "    </tr>\n",
       "    <tr>\n",
       "      <th>2</th>\n",
       "      <td>3</td>\n",
       "      <td>... life lived in a bubble in financial dealin...</td>\n",
       "      <td>NaN</td>\n",
       "      <td>fresh</td>\n",
       "      <td>Sean Axmaker</td>\n",
       "      <td>0</td>\n",
       "      <td>Stream on Demand</td>\n",
       "      <td>January 4, 2018</td>\n",
       "    </tr>\n",
       "    <tr>\n",
       "      <th>3</th>\n",
       "      <td>3</td>\n",
       "      <td>Continuing along a line introduced in last yea...</td>\n",
       "      <td>NaN</td>\n",
       "      <td>fresh</td>\n",
       "      <td>Daniel Kasman</td>\n",
       "      <td>0</td>\n",
       "      <td>MUBI</td>\n",
       "      <td>November 16, 2017</td>\n",
       "    </tr>\n",
       "    <tr>\n",
       "      <th>4</th>\n",
       "      <td>3</td>\n",
       "      <td>... a perverse twist on neorealism...</td>\n",
       "      <td>NaN</td>\n",
       "      <td>fresh</td>\n",
       "      <td>NaN</td>\n",
       "      <td>0</td>\n",
       "      <td>Cinema Scope</td>\n",
       "      <td>October 12, 2017</td>\n",
       "    </tr>\n",
       "  </tbody>\n",
       "</table>\n",
       "</div>"
      ],
      "text/plain": [
       "   id                                             review rating   fresh  \\\n",
       "0   3  A distinctly gallows take on contemporary fina...    3/5   fresh   \n",
       "1   3  It's an allegory in search of a meaning that n...    NaN  rotten   \n",
       "2   3  ... life lived in a bubble in financial dealin...    NaN   fresh   \n",
       "3   3  Continuing along a line introduced in last yea...    NaN   fresh   \n",
       "4   3             ... a perverse twist on neorealism...     NaN   fresh   \n",
       "\n",
       "           critic  top_critic         publisher               date  \n",
       "0      PJ Nabarro           0   Patrick Nabarro  November 10, 2018  \n",
       "1  Annalee Newitz           0           io9.com       May 23, 2018  \n",
       "2    Sean Axmaker           0  Stream on Demand    January 4, 2018  \n",
       "3   Daniel Kasman           0              MUBI  November 16, 2017  \n",
       "4             NaN           0      Cinema Scope   October 12, 2017  "
      ]
     },
     "execution_count": 114,
     "metadata": {},
     "output_type": "execute_result"
    }
   ],
   "source": [
    "critics_review.head()"
   ]
  },
  {
   "cell_type": "code",
   "execution_count": 115,
   "id": "5207a575-a17f-4337-89aa-124ae19aff8a",
   "metadata": {},
   "outputs": [],
   "source": [
    "#filling the review column with \"not given\" since we do not know the review\n",
    "critics_review[\"review\"] = critics_review[\"review\"].fillna(\"Not given\")"
   ]
  },
  {
   "cell_type": "code",
   "execution_count": 116,
   "id": "5ad7035d-be55-4767-adb2-059b557bb433",
   "metadata": {},
   "outputs": [
    {
     "data": {
      "text/plain": [
       "0          3/5\n",
       "1          NaN\n",
       "2          NaN\n",
       "3          NaN\n",
       "4          NaN\n",
       "         ...  \n",
       "54427      NaN\n",
       "54428      1/5\n",
       "54429      2/5\n",
       "54430    2.5/5\n",
       "54431      3/5\n",
       "Name: rating, Length: 54432, dtype: object"
      ]
     },
     "execution_count": 116,
     "metadata": {},
     "output_type": "execute_result"
    }
   ],
   "source": [
    "critics_review[\"rating\"]"
   ]
  },
  {
   "cell_type": "code",
   "execution_count": 117,
   "id": "0af9b750-ddaa-48e4-aa81-a08ced876ad9",
   "metadata": {},
   "outputs": [],
   "source": [
    "#Filling critic column with unknon\n",
    "critics_review[\"critic\"] = critics_review[\"critic\"].fillna(\"Unknown\")\n",
    "critics_review[\"publisher\"] = critics_review[\"publisher\"].fillna(\"Unknown\")"
   ]
  },
  {
   "cell_type": "code",
   "execution_count": 118,
   "id": "0ddd33b2-da27-4836-b9f2-735044441e94",
   "metadata": {
    "scrolled": true
   },
   "outputs": [
    {
     "data": {
      "text/plain": [
       "array(['3/5', nan, 'C', '2/5', 'B-', '2/4', 'B', '3/4', '4/5', '4/4',\n",
       "       '6/10', '1/4', '8', '2.5/4', '4/10', '2.0/5', '3/10', '7/10', 'A-',\n",
       "       '5/5', 'F', '3.5/4', 'D+', '1.5/4', '3.5/5', '8/10', 'B+', '9/10',\n",
       "       '2.5/5', '7.5/10', '5.5/10', 'C-', '1.5/5', '1/5', '5/10', 'C+',\n",
       "       '0/5', '6', '0.5/4', 'D', '3.1/5', '3/6', '4.5/5', '0/4', '2/10',\n",
       "       'D-', '7', '1/10', '3', 'A+', 'A', '4.0/4', '9.5/10', '2.5',\n",
       "       '2.1/2', '6.5/10', '3.7/5', '8.4/10', '9', '1', '7.2/10', '2.2/5',\n",
       "       '0.5/10', '5', '0', '2', '4.5', '7.7', '5.0/5', '8.5/10', '3.0/5',\n",
       "       '0.5/5', '1.5/10', '3.0/4', '2.3/10', '4.5/10', '4/6', '3.5',\n",
       "       '8.6/10', '6/8', '2.0/4', '2.7', '4.2/10', '5.8', '4', '7.1/10',\n",
       "       '5/4', 'N', '3.5/10', '5.8/10', 'R', '4.0/5', '0/10', '5.0/10',\n",
       "       '5.9/10', '2.4/5', '1.9/5', '4.9', '7.4/10', '1.5', '2.3/4',\n",
       "       '8.8/10', '4.0/10', '2.2', '3.8/10', '6.8/10', '7.3', '7.0/10',\n",
       "       '3.2', '4.2', '8.4', '5.5/5', '6.3/10', '7.6/10', '8.1/10',\n",
       "       '3.6/5', '2/6', '7.7/10', '1.8', '8.9/10', '8.9', '8.2/10',\n",
       "       '8.3/10', '2.6/6', '4.1/10', '2.5/10', 'F+', '6.0/10', '1.0/4',\n",
       "       '7.9/10', '8.7/10', '4.3/10', '9.6/10', '9.0/10', '4.0', '1.7',\n",
       "       '7.9', '6.7', '8.0/10', '9.2/10', '5.2', '5.9', '3.7', '4.7',\n",
       "       '6.2/10', '1/6', '8.2', '2.6/5', '3.4', '9.7', '3.3/5', '3.8/5',\n",
       "       '1/2', '7.4', '4.8', '1.6/5', '2/2', '1-5', '1.0', '4.3/5', '5/6',\n",
       "       '9.2', '2.7/5', '4.9/10', '3.0', '3.1', '7.8/10', 'F-', '2.3/5',\n",
       "       '3.0/10', '3/2', '7.8', '4.2/5', '9.0', '7.3/10', '4.4/5',\n",
       "       '6.9/10', '0/6', 'T', '6.2', '3.3', '9.8', '8.5', '1.0/5', '4.1',\n",
       "       '7.1', '3 1/2'], dtype=object)"
      ]
     },
     "execution_count": 118,
     "metadata": {},
     "output_type": "execute_result"
    }
   ],
   "source": [
    "critics_review[\"rating\"].unique()"
   ]
  },
  {
   "cell_type": "markdown",
   "id": "bafde0c5-f35d-4703-8759-d1f580e15ee5",
   "metadata": {},
   "source": [
    "##### 4) audience_rating"
   ]
  },
  {
   "cell_type": "code",
   "execution_count": 119,
   "id": "654c74e9-2867-49d6-8faa-16a36b1f3d26",
   "metadata": {},
   "outputs": [
    {
     "name": "stdout",
     "output_type": "stream",
     "text": [
      "<class 'pandas.core.frame.DataFrame'>\n",
      "RangeIndex: 26517 entries, 0 to 26516\n",
      "Data columns (total 10 columns):\n",
      " #   Column             Non-Null Count  Dtype  \n",
      "---  ------             --------------  -----  \n",
      " 0   Unnamed: 0         26517 non-null  int64  \n",
      " 1   genre_ids          26517 non-null  object \n",
      " 2   id                 26517 non-null  int64  \n",
      " 3   original_language  26517 non-null  object \n",
      " 4   original_title     26517 non-null  object \n",
      " 5   popularity         26517 non-null  float64\n",
      " 6   release_date       26517 non-null  object \n",
      " 7   title              26517 non-null  object \n",
      " 8   vote_average       26517 non-null  float64\n",
      " 9   vote_count         26517 non-null  int64  \n",
      "dtypes: float64(2), int64(3), object(5)\n",
      "memory usage: 2.0+ MB\n"
     ]
    }
   ],
   "source": [
    "audience_rating.info()"
   ]
  },
  {
   "cell_type": "code",
   "execution_count": 120,
   "id": "aed4e7d6-a2fd-42ce-91a4-0b305f4b1b66",
   "metadata": {},
   "outputs": [
    {
     "data": {
      "text/plain": [
       "array(['en', 'nl', 'es', 'ja', 'sv', 'de', 'fr', 'cn', 'it', 'ru', 'zh',\n",
       "       'hi', 'no', 'ko', 'da', 'fi', 'pl', 'te', 'hu', 'tr', 'pt', 'he',\n",
       "       'fa', 'th', 'cs', 'et', 'tl', 'lt', 'xx', 'bs', 'ar', 'is', 'el',\n",
       "       'mr', 'hr', 'ro', 'sr', 'uk', 'nb', 'hz', 'ca', 'bg', 'sl', 'lv',\n",
       "       'si', 'ab', 'ta', 'bo', 'id', 'sq', 'bn', 'gu', 'lo', 'ne', 'kk',\n",
       "       'hy', 'ps', 'kn', 'vi', 'ku', 'ka', 'ml', 'ur', 'mi', 'eu', 'sn',\n",
       "       'cy', 'ha', 'ky', 'yi', 'pa', 'xh', 'cr', 'sw', 'af', 'dz'],\n",
       "      dtype=object)"
      ]
     },
     "execution_count": 120,
     "metadata": {},
     "output_type": "execute_result"
    }
   ],
   "source": [
    "audience_rating[\"original_language\"].unique()"
   ]
  },
  {
   "cell_type": "code",
   "execution_count": 121,
   "id": "b4818aa5-4929-4281-b30a-9ee1f029a115",
   "metadata": {},
   "outputs": [],
   "source": [
    "#Changing the release_date to datetime\n",
    "audience_rating[\"release_date\"] = pd.to_datetime(audience_rating[\"release_date\"])"
   ]
  },
  {
   "cell_type": "code",
   "execution_count": 122,
   "id": "670662f5-650d-4a21-8083-7f6b8878b2e7",
   "metadata": {},
   "outputs": [],
   "source": [
    "#Changing the original_language column to category \n",
    "audience_rating[\"original_language\"] = audience_rating[\"original_language\"].astype('category')"
   ]
  },
  {
   "cell_type": "code",
   "execution_count": 123,
   "id": "86494e21-b185-47bd-90c7-03aa6dd36c65",
   "metadata": {},
   "outputs": [
    {
     "name": "stdout",
     "output_type": "stream",
     "text": [
      "<class 'pandas.core.frame.DataFrame'>\n",
      "RangeIndex: 26517 entries, 0 to 26516\n",
      "Data columns (total 10 columns):\n",
      " #   Column             Non-Null Count  Dtype         \n",
      "---  ------             --------------  -----         \n",
      " 0   Unnamed: 0         26517 non-null  int64         \n",
      " 1   genre_ids          26517 non-null  object        \n",
      " 2   id                 26517 non-null  int64         \n",
      " 3   original_language  26517 non-null  category      \n",
      " 4   original_title     26517 non-null  object        \n",
      " 5   popularity         26517 non-null  float64       \n",
      " 6   release_date       26517 non-null  datetime64[ns]\n",
      " 7   title              26517 non-null  object        \n",
      " 8   vote_average       26517 non-null  float64       \n",
      " 9   vote_count         26517 non-null  int64         \n",
      "dtypes: category(1), datetime64[ns](1), float64(2), int64(3), object(3)\n",
      "memory usage: 1.8+ MB\n"
     ]
    }
   ],
   "source": [
    "audience_rating.info()"
   ]
  },
  {
   "cell_type": "markdown",
   "id": "73f4c67b-de03-4984-a110-6def118de88c",
   "metadata": {},
   "source": [
    "##### 5)budgets"
   ]
  },
  {
   "cell_type": "code",
   "execution_count": 124,
   "id": "cd5fb065-2f27-4e83-86cc-735db3a6da99",
   "metadata": {},
   "outputs": [
    {
     "name": "stdout",
     "output_type": "stream",
     "text": [
      "<class 'pandas.core.frame.DataFrame'>\n",
      "RangeIndex: 5782 entries, 0 to 5781\n",
      "Data columns (total 6 columns):\n",
      " #   Column             Non-Null Count  Dtype \n",
      "---  ------             --------------  ----- \n",
      " 0   id                 5782 non-null   int64 \n",
      " 1   release_date       5782 non-null   object\n",
      " 2   movie              5782 non-null   object\n",
      " 3   production_budget  5782 non-null   object\n",
      " 4   domestic_gross     5782 non-null   object\n",
      " 5   worldwide_gross    5782 non-null   object\n",
      "dtypes: int64(1), object(5)\n",
      "memory usage: 271.2+ KB\n"
     ]
    }
   ],
   "source": [
    "budgets.info()"
   ]
  },
  {
   "cell_type": "code",
   "execution_count": 125,
   "id": "344f089d-d995-46b0-9731-e13c62ee1618",
   "metadata": {},
   "outputs": [],
   "source": [
    "# Remove $ and commas\n",
    "budgets['production_budget'] = budgets['production_budget'].str.replace('$', '', regex=False)\n",
    "budgets['production_budget'] = budgets['production_budget'].str.replace(',', '', regex=False)\n",
    "\n",
    "# converting to integer\n",
    "budgets['production_budget'] = budgets['production_budget'].astype(int)"
   ]
  },
  {
   "cell_type": "code",
   "execution_count": 126,
   "id": "12c726cd-6f0b-4f73-b413-997c72e94568",
   "metadata": {},
   "outputs": [],
   "source": [
    "# Changing the release_date to datetime format\n",
    "budgets[\"release_date\"] = pd.to_datetime(budgets[\"release_date\"])"
   ]
  },
  {
   "cell_type": "code",
   "execution_count": 127,
   "id": "0768bc04-93ee-4c76-ac00-e17278685a5d",
   "metadata": {},
   "outputs": [],
   "source": [
    "# Remove $ and commas\n",
    "budgets[\"domestic_gross\"] = budgets[\"domestic_gross\"].str.replace('$', '', regex=False)\n",
    "budgets[\"domestic_gross\"] = budgets[\"domestic_gross\"].str.replace(',', '', regex=False)\n",
    "\n",
    "# converting to integer\n",
    "budgets[\"domestic_gross\"] = budgets[\"domestic_gross\"].astype(int)"
   ]
  },
  {
   "cell_type": "code",
   "execution_count": 128,
   "id": "2ed8c2b1-f0ca-492c-a71f-da3ab188525c",
   "metadata": {},
   "outputs": [],
   "source": [
    "# Remove $ and commas\n",
    "budgets[\"worldwide_gross\"] = budgets[\"worldwide_gross\"].str.replace('$', '', regex=False)\n",
    "budgets[\"worldwide_gross\"] = budgets[\"worldwide_gross\"].str.replace(',', '', regex=False)\n",
    "\n",
    "# converting to integer\n",
    "budgets[\"worldwide_gross\"] = budgets[\"worldwide_gross\"].astype(int)"
   ]
  },
  {
   "cell_type": "code",
   "execution_count": 129,
   "id": "3d7fd58a-b2b2-494b-83ea-2326198d9983",
   "metadata": {
    "scrolled": true
   },
   "outputs": [
    {
     "name": "stdout",
     "output_type": "stream",
     "text": [
      "<class 'pandas.core.frame.DataFrame'>\n",
      "RangeIndex: 5782 entries, 0 to 5781\n",
      "Data columns (total 6 columns):\n",
      " #   Column             Non-Null Count  Dtype         \n",
      "---  ------             --------------  -----         \n",
      " 0   id                 5782 non-null   int64         \n",
      " 1   release_date       5782 non-null   datetime64[ns]\n",
      " 2   movie              5782 non-null   object        \n",
      " 3   production_budget  5782 non-null   int64         \n",
      " 4   domestic_gross     5782 non-null   int64         \n",
      " 5   worldwide_gross    5782 non-null   int64         \n",
      "dtypes: datetime64[ns](1), int64(4), object(1)\n",
      "memory usage: 271.2+ KB\n"
     ]
    }
   ],
   "source": [
    "#Confirming the cahnges \n",
    "budgets.info()"
   ]
  },
  {
   "cell_type": "markdown",
   "id": "605fc7e4-f6e1-4d04-b337-51ff4e4b3718",
   "metadata": {},
   "source": [
    "##### 6) other tables"
   ]
  },
  {
   "cell_type": "code",
   "execution_count": 130,
   "id": "6f76b4ed-cb01-449c-80cd-5be91f89e1b7",
   "metadata": {},
   "outputs": [
    {
     "data": {
      "text/html": [
       "<div>\n",
       "<style scoped>\n",
       "    .dataframe tbody tr th:only-of-type {\n",
       "        vertical-align: middle;\n",
       "    }\n",
       "\n",
       "    .dataframe tbody tr th {\n",
       "        vertical-align: top;\n",
       "    }\n",
       "\n",
       "    .dataframe thead th {\n",
       "        text-align: right;\n",
       "    }\n",
       "</style>\n",
       "<table border=\"1\" class=\"dataframe\">\n",
       "  <thead>\n",
       "    <tr style=\"text-align: right;\">\n",
       "      <th></th>\n",
       "      <th>name</th>\n",
       "    </tr>\n",
       "  </thead>\n",
       "  <tbody>\n",
       "  </tbody>\n",
       "</table>\n",
       "</div>"
      ],
      "text/plain": [
       "Empty DataFrame\n",
       "Columns: [name]\n",
       "Index: []"
      ]
     },
     "execution_count": 130,
     "metadata": {},
     "output_type": "execute_result"
    }
   ],
   "source": [
    "tables"
   ]
  },
  {
   "cell_type": "code",
   "execution_count": 131,
   "id": "267340a3-f69e-43bd-a268-b1f67e95db90",
   "metadata": {},
   "outputs": [
    {
     "ename": "DatabaseError",
     "evalue": "Execution failed on sql 'SELECT * FROM movie_basics': no such table: movie_basics",
     "output_type": "error",
     "traceback": [
      "\u001b[0;31m---------------------------------------------------------------------------\u001b[0m",
      "\u001b[0;31mOperationalError\u001b[0m                          Traceback (most recent call last)",
      "File \u001b[0;32m~/miniconda3/envs/learn-env/lib/python3.10/site-packages/pandas/io/sql.py:2674\u001b[0m, in \u001b[0;36mSQLiteDatabase.execute\u001b[0;34m(self, sql, params)\u001b[0m\n\u001b[1;32m   2673\u001b[0m \u001b[38;5;28;01mtry\u001b[39;00m:\n\u001b[0;32m-> 2674\u001b[0m     \u001b[43mcur\u001b[49m\u001b[38;5;241;43m.\u001b[39;49m\u001b[43mexecute\u001b[49m\u001b[43m(\u001b[49m\u001b[43msql\u001b[49m\u001b[43m,\u001b[49m\u001b[43m \u001b[49m\u001b[38;5;241;43m*\u001b[39;49m\u001b[43margs\u001b[49m\u001b[43m)\u001b[49m\n\u001b[1;32m   2675\u001b[0m     \u001b[38;5;28;01mreturn\u001b[39;00m cur\n",
      "\u001b[0;31mOperationalError\u001b[0m: no such table: movie_basics",
      "\nThe above exception was the direct cause of the following exception:\n",
      "\u001b[0;31mDatabaseError\u001b[0m                             Traceback (most recent call last)",
      "Cell \u001b[0;32mIn[131], line 1\u001b[0m\n\u001b[0;32m----> 1\u001b[0m movie_basics \u001b[38;5;241m=\u001b[39m \u001b[43mpd\u001b[49m\u001b[38;5;241;43m.\u001b[39;49m\u001b[43mread_sql\u001b[49m\u001b[43m(\u001b[49m\u001b[38;5;124;43m\"\u001b[39;49m\u001b[38;5;124;43mSELECT * FROM movie_basics\u001b[39;49m\u001b[38;5;124;43m\"\u001b[39;49m\n\u001b[1;32m      2\u001b[0m \u001b[43m,\u001b[49m\u001b[43mconn\u001b[49m\u001b[43m)\u001b[49m\n",
      "File \u001b[0;32m~/miniconda3/envs/learn-env/lib/python3.10/site-packages/pandas/io/sql.py:706\u001b[0m, in \u001b[0;36mread_sql\u001b[0;34m(sql, con, index_col, coerce_float, params, parse_dates, columns, chunksize, dtype_backend, dtype)\u001b[0m\n\u001b[1;32m    704\u001b[0m \u001b[38;5;28;01mwith\u001b[39;00m pandasSQL_builder(con) \u001b[38;5;28;01mas\u001b[39;00m pandas_sql:\n\u001b[1;32m    705\u001b[0m     \u001b[38;5;28;01mif\u001b[39;00m \u001b[38;5;28misinstance\u001b[39m(pandas_sql, SQLiteDatabase):\n\u001b[0;32m--> 706\u001b[0m         \u001b[38;5;28;01mreturn\u001b[39;00m \u001b[43mpandas_sql\u001b[49m\u001b[38;5;241;43m.\u001b[39;49m\u001b[43mread_query\u001b[49m\u001b[43m(\u001b[49m\n\u001b[1;32m    707\u001b[0m \u001b[43m            \u001b[49m\u001b[43msql\u001b[49m\u001b[43m,\u001b[49m\n\u001b[1;32m    708\u001b[0m \u001b[43m            \u001b[49m\u001b[43mindex_col\u001b[49m\u001b[38;5;241;43m=\u001b[39;49m\u001b[43mindex_col\u001b[49m\u001b[43m,\u001b[49m\n\u001b[1;32m    709\u001b[0m \u001b[43m            \u001b[49m\u001b[43mparams\u001b[49m\u001b[38;5;241;43m=\u001b[39;49m\u001b[43mparams\u001b[49m\u001b[43m,\u001b[49m\n\u001b[1;32m    710\u001b[0m \u001b[43m            \u001b[49m\u001b[43mcoerce_float\u001b[49m\u001b[38;5;241;43m=\u001b[39;49m\u001b[43mcoerce_float\u001b[49m\u001b[43m,\u001b[49m\n\u001b[1;32m    711\u001b[0m \u001b[43m            \u001b[49m\u001b[43mparse_dates\u001b[49m\u001b[38;5;241;43m=\u001b[39;49m\u001b[43mparse_dates\u001b[49m\u001b[43m,\u001b[49m\n\u001b[1;32m    712\u001b[0m \u001b[43m            \u001b[49m\u001b[43mchunksize\u001b[49m\u001b[38;5;241;43m=\u001b[39;49m\u001b[43mchunksize\u001b[49m\u001b[43m,\u001b[49m\n\u001b[1;32m    713\u001b[0m \u001b[43m            \u001b[49m\u001b[43mdtype_backend\u001b[49m\u001b[38;5;241;43m=\u001b[39;49m\u001b[43mdtype_backend\u001b[49m\u001b[43m,\u001b[49m\n\u001b[1;32m    714\u001b[0m \u001b[43m            \u001b[49m\u001b[43mdtype\u001b[49m\u001b[38;5;241;43m=\u001b[39;49m\u001b[43mdtype\u001b[49m\u001b[43m,\u001b[49m\n\u001b[1;32m    715\u001b[0m \u001b[43m        \u001b[49m\u001b[43m)\u001b[49m\n\u001b[1;32m    717\u001b[0m     \u001b[38;5;28;01mtry\u001b[39;00m:\n\u001b[1;32m    718\u001b[0m         _is_table_name \u001b[38;5;241m=\u001b[39m pandas_sql\u001b[38;5;241m.\u001b[39mhas_table(sql)\n",
      "File \u001b[0;32m~/miniconda3/envs/learn-env/lib/python3.10/site-packages/pandas/io/sql.py:2738\u001b[0m, in \u001b[0;36mSQLiteDatabase.read_query\u001b[0;34m(self, sql, index_col, coerce_float, parse_dates, params, chunksize, dtype, dtype_backend)\u001b[0m\n\u001b[1;32m   2727\u001b[0m \u001b[38;5;28;01mdef\u001b[39;00m\u001b[38;5;250m \u001b[39m\u001b[38;5;21mread_query\u001b[39m(\n\u001b[1;32m   2728\u001b[0m     \u001b[38;5;28mself\u001b[39m,\n\u001b[1;32m   2729\u001b[0m     sql,\n\u001b[0;32m   (...)\u001b[0m\n\u001b[1;32m   2736\u001b[0m     dtype_backend: DtypeBackend \u001b[38;5;241m|\u001b[39m Literal[\u001b[38;5;124m\"\u001b[39m\u001b[38;5;124mnumpy\u001b[39m\u001b[38;5;124m\"\u001b[39m] \u001b[38;5;241m=\u001b[39m \u001b[38;5;124m\"\u001b[39m\u001b[38;5;124mnumpy\u001b[39m\u001b[38;5;124m\"\u001b[39m,\n\u001b[1;32m   2737\u001b[0m ) \u001b[38;5;241m-\u001b[39m\u001b[38;5;241m>\u001b[39m DataFrame \u001b[38;5;241m|\u001b[39m Iterator[DataFrame]:\n\u001b[0;32m-> 2738\u001b[0m     cursor \u001b[38;5;241m=\u001b[39m \u001b[38;5;28;43mself\u001b[39;49m\u001b[38;5;241;43m.\u001b[39;49m\u001b[43mexecute\u001b[49m\u001b[43m(\u001b[49m\u001b[43msql\u001b[49m\u001b[43m,\u001b[49m\u001b[43m \u001b[49m\u001b[43mparams\u001b[49m\u001b[43m)\u001b[49m\n\u001b[1;32m   2739\u001b[0m     columns \u001b[38;5;241m=\u001b[39m [col_desc[\u001b[38;5;241m0\u001b[39m] \u001b[38;5;28;01mfor\u001b[39;00m col_desc \u001b[38;5;129;01min\u001b[39;00m cursor\u001b[38;5;241m.\u001b[39mdescription]\n\u001b[1;32m   2741\u001b[0m     \u001b[38;5;28;01mif\u001b[39;00m chunksize \u001b[38;5;129;01mis\u001b[39;00m \u001b[38;5;129;01mnot\u001b[39;00m \u001b[38;5;28;01mNone\u001b[39;00m:\n",
      "File \u001b[0;32m~/miniconda3/envs/learn-env/lib/python3.10/site-packages/pandas/io/sql.py:2686\u001b[0m, in \u001b[0;36mSQLiteDatabase.execute\u001b[0;34m(self, sql, params)\u001b[0m\n\u001b[1;32m   2683\u001b[0m     \u001b[38;5;28;01mraise\u001b[39;00m ex \u001b[38;5;28;01mfrom\u001b[39;00m\u001b[38;5;250m \u001b[39m\u001b[38;5;21;01minner_exc\u001b[39;00m\n\u001b[1;32m   2685\u001b[0m ex \u001b[38;5;241m=\u001b[39m DatabaseError(\u001b[38;5;124mf\u001b[39m\u001b[38;5;124m\"\u001b[39m\u001b[38;5;124mExecution failed on sql \u001b[39m\u001b[38;5;124m'\u001b[39m\u001b[38;5;132;01m{\u001b[39;00msql\u001b[38;5;132;01m}\u001b[39;00m\u001b[38;5;124m'\u001b[39m\u001b[38;5;124m: \u001b[39m\u001b[38;5;132;01m{\u001b[39;00mexc\u001b[38;5;132;01m}\u001b[39;00m\u001b[38;5;124m\"\u001b[39m)\n\u001b[0;32m-> 2686\u001b[0m \u001b[38;5;28;01mraise\u001b[39;00m ex \u001b[38;5;28;01mfrom\u001b[39;00m\u001b[38;5;250m \u001b[39m\u001b[38;5;21;01mexc\u001b[39;00m\n",
      "\u001b[0;31mDatabaseError\u001b[0m: Execution failed on sql 'SELECT * FROM movie_basics': no such table: movie_basics"
     ]
    }
   ],
   "source": [
    "movie_basics = pd.read_sql(\"SELECT * FROM movie_basics\"\n",
    ",conn)"
   ]
  },
  {
   "cell_type": "code",
   "execution_count": null,
   "id": "05211c9c-50e8-4aaf-9faa-ca40d2249fa4",
   "metadata": {},
   "outputs": [],
   "source": [
    "movie_basics.head()"
   ]
  },
  {
   "cell_type": "code",
   "execution_count": null,
   "id": "1e030ea6-6ab2-4111-8726-9fbbb9d299b3",
   "metadata": {},
   "outputs": [],
   "source": [
    " directors = pd.read_sql(\"SELECT * FROM directors\"\n",
    ",conn)\n",
    "directors"
   ]
  },
  {
   "cell_type": "code",
   "execution_count": null,
   "id": "ce030e58-5d2e-4e3c-bf6a-c16a9e4d0a0b",
   "metadata": {},
   "outputs": [],
   "source": [
    "known_for = pd.read_sql(\" SELECT * FROM known_for\",conn)\n",
    "known_for.head()"
   ]
  },
  {
   "cell_type": "code",
   "execution_count": null,
   "id": "586e95cb-31f8-4458-8b1f-759310ec0d02",
   "metadata": {},
   "outputs": [],
   "source": [
    "movie_akas = pd.read_sql(\" SELECT * FROM movie_akas\",conn)\n",
    "movie_akas.head()"
   ]
  },
  {
   "cell_type": "code",
   "execution_count": null,
   "id": "3d9a145e-3f4f-4648-b690-6d5de9344647",
   "metadata": {},
   "outputs": [],
   "source": [
    "movie_ratings = pd.read_sql(\" SELECT * FROM movie_ratings\",conn)\n",
    "movie_ratings.head()"
   ]
  },
  {
   "cell_type": "code",
   "execution_count": null,
   "id": "ad43cc63-97de-4063-a4f7-f5afc1d0e727",
   "metadata": {},
   "outputs": [],
   "source": [
    "persons = pd.read_sql(\" SELECT * FROM persons\",conn)\n",
    "persons.head()"
   ]
  },
  {
   "cell_type": "code",
   "execution_count": null,
   "id": "d4b91603-f80f-4bce-91ac-44e4081c5567",
   "metadata": {},
   "outputs": [],
   "source": [
    "principals = pd.read_sql(\" SELECT * FROM principals\",conn)\n",
    "principals.head()"
   ]
  },
  {
   "cell_type": "code",
   "execution_count": null,
   "id": "aa0466c6-727d-4841-bdd4-253087ffd670",
   "metadata": {},
   "outputs": [],
   "source": [
    "writers = pd.read_sql(\" SELECT * FROM writers\",conn)\n",
    "writers"
   ]
  },
  {
   "cell_type": "markdown",
   "id": "94c724e9-12f4-49c9-bb5e-8b8b93544a64",
   "metadata": {
    "jp-MarkdownHeadingCollapsed": true
   },
   "source": [
    "### MERGING"
   ]
  },
  {
   "cell_type": "code",
   "execution_count": null,
   "id": "dc463e15-8e57-4e90-bac3-56761016affe",
   "metadata": {
    "scrolled": true
   },
   "outputs": [],
   "source": [
    "movie_person_roles = pd.merge(writers, directors, on=['movie_id', 'person_id'], how='inner')\n",
    "movie_person_roles"
   ]
  },
  {
   "cell_type": "code",
   "execution_count": null,
   "id": "d5721325-2c2a-4727-9376-65f814e237e4",
   "metadata": {
    "scrolled": true
   },
   "outputs": [],
   "source": [
    "movie_complete_details = pd.merge(movie_ratings, movie_basics, on='movie_id', how='left')\n",
    "movie_complete_details"
   ]
  },
  {
   "cell_type": "markdown",
   "id": "43e90ce5-8125-4643-9eea-ebabb3c320f5",
   "metadata": {},
   "source": [
    "### ANALYSIS "
   ]
  },
  {
   "cell_type": "markdown",
   "id": "0e8eb72d-ac50-46cc-bace-7895fd23c25c",
   "metadata": {},
   "source": [
    "Understand Genre Performance\n",
    "Identify Profitable Film \n",
    "Evaluate the Impact of Budget on Success\n",
    "Analyze Audience Sentiment and Engagement\n",
    "Find Seasonal or Time-Based Trends"
   ]
  },
  {
   "cell_type": "markdown",
   "id": "3a6cc0f8-9275-40d8-8903-29cc60000e78",
   "metadata": {},
   "source": [
    "### 1)Understand Genre Performance"
   ]
  },
  {
   "cell_type": "code",
   "execution_count": null,
   "id": "11715c0f-c965-4144-97d3-b25dd98640cf",
   "metadata": {
    "scrolled": true
   },
   "outputs": [],
   "source": [
    "# Grouping by genre (from genre_ids) and calculating average vote and vote count\n",
    "data = audience_rating.groupby('genre_ids').agg(\n",
    "    average_vote=('vote_average', 'mean'),\n",
    "    total_votes=('vote_count', 'sum')\n",
    ").reset_index()\n",
    "data"
   ]
  },
  {
   "cell_type": "code",
   "execution_count": null,
   "id": "40eb03d7-ad62-4c78-aeba-cf12e2f760f5",
   "metadata": {},
   "outputs": [],
   "source": [
    "# Grouping by genre and calculating profit margin\n",
    "budgets['profit_margin'] = (budgets['worldwide_gross'] - budgets['production_budget']) / budgets['production_budget']\n",
    "\n",
    "budgets.groupby('release_date').agg(\n",
    "    average_profit_margin=('profit_margin', 'mean')\n",
    ").reset_index()\n"
   ]
  },
  {
   "cell_type": "code",
   "execution_count": null,
   "id": "e6539369-1716-4032-9556-440404289d19",
   "metadata": {},
   "outputs": [],
   "source": [
    "# Calculate profit for each film\n",
    "budgets['profit'] = budgets['worldwide_gross'] - budgets['production_budget']\n",
    "\n",
    "# Optionally, you can filter or sort by profit to identify the most profitable films\n",
    "profitable_films = budgets.sort_values(by='profit', ascending=False)\n",
    "\n",
    "# Display the most profitable films\n",
    "profitable_films[ 'profit'].head() \n"
   ]
  },
  {
   "cell_type": "code",
   "execution_count": null,
   "id": "b21f7ee0-94bf-49bc-a3a3-2dbeb143ca03",
   "metadata": {},
   "outputs": [],
   "source": [
    "# Group by calculate average profit by movie\n",
    "budgets.groupby('release_date').agg(\n",
    "    average_profit=('profit', 'mean'),\n",
    "    total_profit=('profit', 'sum'),\n",
    "     movie_names=('movie', lambda x: ', '.join(x))\n",
    ").reset_index().sort_values(by='average_profit', ascending=False)"
   ]
  },
  {
   "cell_type": "code",
   "execution_count": null,
   "id": "28c050a8-296f-4a15-82ce-d81a785f497f",
   "metadata": {},
   "outputs": [],
   "source": [
    "# Convert 'release_date' to datetime if it's not already\n",
    "budgets['release_date'] = pd.to_datetime(budgets['release_date'])\n",
    "\n",
    "# Create a 'month_year' column by extracting year and month\n",
    "budgets['month_year'] = budgets['release_date'].dt.to_period('M')\n",
    "\n",
    "# Group by 'month_year' and calculate the average profit\n",
    "monthly_profit = budgets.groupby('month_year').agg(\n",
    "    average_profit=('profit', 'mean')\n",
    ").reset_index()\n",
    "\n",
    "# Convert 'month_year' to a timestamp for plotting\n",
    "monthly_profit['month_year'] = monthly_profit['month_year'].dt.to_timestamp()\n",
    "\n",
    "# Plotting the data\n",
    "plt.figure(figsize=(10, 6))\n",
    "plt.plot(monthly_profit['month_year'], monthly_profit['average_profit'], marker='o')\n",
    "plt.title('Average Profit by Release Month')\n",
    "plt.xlabel('Month')\n",
    "plt.ylabel('Average Profit')\n",
    "plt.tight_layout()  \n",
    "plt.show()\n"
   ]
  },
  {
   "cell_type": "markdown",
   "id": "a6f42299-64be-404b-be2d-8b6833c4e7b2",
   "metadata": {},
   "source": [
    "- Find Seasonal or Time-Based Trends"
   ]
  },
  {
   "cell_type": "code",
   "execution_count": null,
   "id": "461d2e80-7051-4e95-8cc0-ff975f78a230",
   "metadata": {},
   "outputs": [],
   "source": [
    "# Count number of films released in each date\n",
    "budgets.groupby('release_date').agg(\n",
    "    films_released=('movie', 'count')\n",
    ").reset_index().sort_values(by='films_released', ascending=False)\n"
   ]
  },
  {
   "cell_type": "code",
   "execution_count": null,
   "id": "c0ba196c-0f29-4b10-abe2-647b2b813981",
   "metadata": {},
   "outputs": [],
   "source": [
    "# Calculate profit for each film\n",
    "budgets['profit'] = budgets['worldwide_gross'] - budgets['production_budget']\n",
    "budgets['profit']"
   ]
  },
  {
   "cell_type": "code",
   "execution_count": null,
   "id": "c75d5227-d622-4121-a295-e6fb119117af",
   "metadata": {},
   "outputs": [],
   "source": [
    "# Plotting production budget vs profit\n",
    "plt.figure(figsize=(10, 6))\n",
    "plt.scatter(budgets['production_budget'], budgets['profit'], alpha=0.5)\n",
    "plt.title('Production Budget vs Profit')\n",
    "plt.xlabel('Production Budget ($)')\n",
    "plt.ylabel('Profit ($)')\n",
    "#plt.xscale('log')  \n",
    "#plt.yscale('log')  \n",
    "plt.grid(True)\n",
    "plt.show()"
   ]
  },
  {
   "cell_type": "code",
   "execution_count": null,
   "id": "caf5d96a-23c2-4ef5-8842-983cb74af421",
   "metadata": {},
   "outputs": [],
   "source": [
    "budgets['release_month'] = budgets['release_date'].dt.month\n",
    "average_gross_by_year = budgets.groupby('release_year')[['domestic_gross', 'worldwide_gross']].mean()\n",
    "print(average_gross_by_year)"
   ]
  },
  {
   "cell_type": "code",
   "execution_count": null,
   "id": "d6a2c557-7576-4088-81e0-0fd3e582b734",
   "metadata": {},
   "outputs": [],
   "source": [
    "# 3. Production budget vs. gross earnings\n",
    "plt.figure(figsize=(10, 6))\n",
    "plt.scatter(budgets['production_budget'], budgets['domestic_gross'], label='Domestic Gross', color='blue')\n",
    "plt.scatter(budgets['production_budget'],budgets['worldwide_gross'], label='Worldwide Gross', color='red')\n",
    "plt.xlabel('Production Budget')\n",
    "plt.ylabel('Gross Earnings')\n",
    "plt.title('Production Budget vs Gross Earnings')\n",
    "plt.legend()\n",
    "plt.show()\n"
   ]
  },
  {
   "cell_type": "code",
   "execution_count": null,
   "id": "50385d22-9c79-4585-a6d5-f85a0673a94b",
   "metadata": {
    "scrolled": true
   },
   "outputs": [],
   "source": [
    "audience_rating.head()"
   ]
  },
  {
   "cell_type": "code",
   "execution_count": null,
   "id": "99481d7d-41e3-4c59-9edb-4caf1ed074b5",
   "metadata": {},
   "outputs": [],
   "source": [
    "# Sort the data by popularity and get the top 10 most popular movies\n",
    "top_popular_movies = audience_rating.sort_values(by='popularity', ascending=False).head(10)\n",
    "print(top_popular_movies[['title', 'popularity']])\n"
   ]
  },
  {
   "cell_type": "code",
   "execution_count": null,
   "id": "e3cfa9fa-9a42-4f31-a3c9-11e5a68fd837",
   "metadata": {},
   "outputs": [],
   "source": [
    "# Plot the distribution of average ratings vote_average\n",
    "plt.figure(figsize=(10, 6))\n",
    "sns.histplot(audience_rating['vote_average'], kde=True, bins=20, color='blue')\n",
    "plt.title('Distribution of Average Ratings')\n",
    "plt.xlabel('Average Rating')\n",
    "plt.ylabel('Frequency')\n",
    "plt.show()\n"
   ]
  },
  {
   "cell_type": "code",
   "execution_count": null,
   "id": "e8cae1c0-a9be-4f82-96d6-066f09ec8a8f",
   "metadata": {},
   "outputs": [],
   "source": [
    "# The top 10 highest rated movies\n",
    "top_rated_movies = audience_rating.sort_values(by='vote_average', ascending=False).head(10)\n",
    "print(top_rated_movies[['title', 'vote_average']])\n"
   ]
  },
  {
   "cell_type": "code",
   "execution_count": null,
   "id": "e23ae693-58e3-4470-b18c-eb8d4b0c21cf",
   "metadata": {},
   "outputs": [],
   "source": [
    "# Convert release_date to datetime format\n",
    "audience_rating['release_date'] = pd.to_datetime(audience_rating['release_date'])\n",
    "\n",
    "# Extract the year from the release date\n",
    "audience_rating['release_year'] = audience_rating['release_date'].dt.year\n",
    "\n",
    "# Count the number of movies released each year\n",
    "movies_per_year = audience_rating['release_year'].value_counts().sort_index()\n",
    "\n",
    "# Plot the number of movies released over the years\n",
    "plt.figure(figsize=(12, 6))\n",
    "sns.lineplot(x=movies_per_year.index, y=movies_per_year.values, color='red')\n",
    "plt.title('Number of Movies Released Over the Years')\n",
    "plt.xlabel('Year')\n",
    "plt.ylabel('Number of Movies')\n",
    "plt.show()\n"
   ]
  },
  {
   "cell_type": "markdown",
   "id": "09a838f9-a6a9-4dcb-8bb5-759f5269531f",
   "metadata": {},
   "source": [
    "- Analyze Audience Sentiment and Engagement"
   ]
  },
  {
   "cell_type": "code",
   "execution_count": null,
   "id": "afe58159-e5ae-4d99-a984-2bb99ddf2b0f",
   "metadata": {},
   "outputs": [],
   "source": [
    "critics_review.head()"
   ]
  },
  {
   "cell_type": "code",
   "execution_count": null,
   "id": "0f7ff6ae-6f89-4c8d-ba6e-5d72a278632c",
   "metadata": {
    "scrolled": true
   },
   "outputs": [],
   "source": [
    "audience_rating.head()"
   ]
  },
  {
   "cell_type": "code",
   "execution_count": null,
   "id": "183cbd96-5fc0-4113-8e00-35e1dbc8efbf",
   "metadata": {},
   "outputs": [],
   "source": [
    "movie_basics['genres'] = movie_basics['genres'].str.split(',')\n",
    "movie_basics_exploded = movie_basics.explode('genres')\n",
    "movie_basics_exploded['genres'] = movie_basics_exploded['genres'].str.strip()\n",
    "\n",
    "# Merging movie_basics with movie_ratings \n",
    "merged_data = pd.merge(movie_basics_exploded, movie_ratings, on='movie_id', how='left')\n",
    "\n",
    "# Count the number of occurrences of each genre\n",
    "genre_counts = merged_data['genres'].value_counts()\n",
    "\n",
    "# Plot the top 10 most common genres\n",
    "genre_counts.head(10).plot(kind='bar', figsize=(10,6), title='Top 10 Most Common Movie Genres')\n",
    "plt.ylabel('Number of Movies')\n",
    "plt.show()\n"
   ]
  },
  {
   "cell_type": "markdown",
   "id": "4b0eacf2-79d0-4a23-85b7-c245636cc90b",
   "metadata": {},
   "source": [
    "## Average Rating by Genre"
   ]
  },
  {
   "cell_type": "code",
   "execution_count": null,
   "id": "7f1cf721-dd0e-476f-adee-4ae685971dc6",
   "metadata": {},
   "outputs": [],
   "source": [
    "#Rating Genre \n",
    "genre_sentiment = movie_basics.groupby('genres')['averagerating'].mean().sort_values(ascending=False)\n",
    "genre_sentiment.plot(kind='bar', figsize=(12,6), title='Average Rating by Genre')\n",
    "plt.ylabel('Average Rating')\n",
    "plt.show()\n",
    "()"
   ]
  },
  {
   "cell_type": "markdown",
   "id": "6e23d1c0-b13c-459c-9b10-f3f47abc3aef",
   "metadata": {},
   "source": [
    "## Identify Profitable Films"
   ]
  },
  {
   "cell_type": "markdown",
   "id": "8be51451-546f-4236-9155-4269a8f883c0",
   "metadata": {},
   "source": [
    "## Analyze Audience Sentiment and Engagement"
   ]
  },
  {
   "cell_type": "code",
   "execution_count": null,
   "id": "0096df5b-c030-4acd-bb78-6da1537d6ed1",
   "metadata": {},
   "outputs": [],
   "source": []
  }
 ],
 "metadata": {
  "kernelspec": {
   "display_name": "Python (learn-env)",
   "language": "python",
   "name": "learn-env"
  },
  "language_info": {
   "codemirror_mode": {
    "name": "ipython",
    "version": 3
   },
   "file_extension": ".py",
   "mimetype": "text/x-python",
   "name": "python",
   "nbconvert_exporter": "python",
   "pygments_lexer": "ipython3",
   "version": "3.10.16"
  }
 },
 "nbformat": 4,
 "nbformat_minor": 5
}
